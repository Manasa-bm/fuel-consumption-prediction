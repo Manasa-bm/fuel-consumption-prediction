{
 "cells": [
  {
   "cell_type": "code",
   "execution_count": 1,
   "id": "dbb8430e-502b-4f10-a5f9-cc8cfa7a2583",
   "metadata": {},
   "outputs": [],
   "source": [
    "import numpy as np\n",
    "import pandas as pd\n",
    "import matplotlib.pyplot as plt\n",
    "import seaborn as sb\n",
    "\n",
    "import tensorflow as tf\n",
    "from tensorflow import keras\n",
    "from keras import layers\n",
    "\n",
    "import warnings\n",
    "warnings.filterwarnings('ignore')"
   ]
  },
  {
   "cell_type": "code",
   "execution_count": 2,
   "id": "53d3ffaa-1d56-4c34-a9b5-3ed5c6bd6c49",
   "metadata": {},
   "outputs": [
    {
     "data": {
      "text/html": [
       "<div>\n",
       "<style scoped>\n",
       "    .dataframe tbody tr th:only-of-type {\n",
       "        vertical-align: middle;\n",
       "    }\n",
       "\n",
       "    .dataframe tbody tr th {\n",
       "        vertical-align: top;\n",
       "    }\n",
       "\n",
       "    .dataframe thead th {\n",
       "        text-align: right;\n",
       "    }\n",
       "</style>\n",
       "<table border=\"1\" class=\"dataframe\">\n",
       "  <thead>\n",
       "    <tr style=\"text-align: right;\">\n",
       "      <th></th>\n",
       "      <th>mpg</th>\n",
       "      <th>cylinders</th>\n",
       "      <th>displacement</th>\n",
       "      <th>horsepower</th>\n",
       "      <th>weight</th>\n",
       "      <th>acceleration</th>\n",
       "      <th>model year</th>\n",
       "      <th>origin</th>\n",
       "      <th>car name</th>\n",
       "    </tr>\n",
       "  </thead>\n",
       "  <tbody>\n",
       "    <tr>\n",
       "      <th>0</th>\n",
       "      <td>18.0</td>\n",
       "      <td>8</td>\n",
       "      <td>307.0</td>\n",
       "      <td>130</td>\n",
       "      <td>3504</td>\n",
       "      <td>12.0</td>\n",
       "      <td>70</td>\n",
       "      <td>1</td>\n",
       "      <td>chevrolet chevelle malibu</td>\n",
       "    </tr>\n",
       "    <tr>\n",
       "      <th>1</th>\n",
       "      <td>15.0</td>\n",
       "      <td>8</td>\n",
       "      <td>350.0</td>\n",
       "      <td>165</td>\n",
       "      <td>3693</td>\n",
       "      <td>11.5</td>\n",
       "      <td>70</td>\n",
       "      <td>1</td>\n",
       "      <td>buick skylark 320</td>\n",
       "    </tr>\n",
       "    <tr>\n",
       "      <th>2</th>\n",
       "      <td>18.0</td>\n",
       "      <td>8</td>\n",
       "      <td>318.0</td>\n",
       "      <td>150</td>\n",
       "      <td>3436</td>\n",
       "      <td>11.0</td>\n",
       "      <td>70</td>\n",
       "      <td>1</td>\n",
       "      <td>plymouth satellite</td>\n",
       "    </tr>\n",
       "    <tr>\n",
       "      <th>3</th>\n",
       "      <td>16.0</td>\n",
       "      <td>8</td>\n",
       "      <td>304.0</td>\n",
       "      <td>150</td>\n",
       "      <td>3433</td>\n",
       "      <td>12.0</td>\n",
       "      <td>70</td>\n",
       "      <td>1</td>\n",
       "      <td>amc rebel sst</td>\n",
       "    </tr>\n",
       "    <tr>\n",
       "      <th>4</th>\n",
       "      <td>17.0</td>\n",
       "      <td>8</td>\n",
       "      <td>302.0</td>\n",
       "      <td>140</td>\n",
       "      <td>3449</td>\n",
       "      <td>10.5</td>\n",
       "      <td>70</td>\n",
       "      <td>1</td>\n",
       "      <td>ford torino</td>\n",
       "    </tr>\n",
       "  </tbody>\n",
       "</table>\n",
       "</div>"
      ],
      "text/plain": [
       "    mpg  cylinders  displacement horsepower  weight  acceleration  model year  \\\n",
       "0  18.0          8         307.0        130    3504          12.0          70   \n",
       "1  15.0          8         350.0        165    3693          11.5          70   \n",
       "2  18.0          8         318.0        150    3436          11.0          70   \n",
       "3  16.0          8         304.0        150    3433          12.0          70   \n",
       "4  17.0          8         302.0        140    3449          10.5          70   \n",
       "\n",
       "   origin                   car name  \n",
       "0       1  chevrolet chevelle malibu  \n",
       "1       1          buick skylark 320  \n",
       "2       1         plymouth satellite  \n",
       "3       1              amc rebel sst  \n",
       "4       1                ford torino  "
      ]
     },
     "execution_count": 2,
     "metadata": {},
     "output_type": "execute_result"
    }
   ],
   "source": [
    "df = pd.read_csv('auto-mpg.csv')\n",
    "df.head()"
   ]
  },
  {
   "cell_type": "code",
   "execution_count": 3,
   "id": "52040cee-6cc1-43c5-a76a-70570611d914",
   "metadata": {},
   "outputs": [
    {
     "data": {
      "text/plain": [
       "(398, 9)"
      ]
     },
     "execution_count": 3,
     "metadata": {},
     "output_type": "execute_result"
    }
   ],
   "source": [
    "df.shape"
   ]
  },
  {
   "cell_type": "code",
   "execution_count": 4,
   "id": "b688a273-5c21-478c-8b7d-dd170a07d676",
   "metadata": {},
   "outputs": [
    {
     "name": "stdout",
     "output_type": "stream",
     "text": [
      "<class 'pandas.core.frame.DataFrame'>\n",
      "RangeIndex: 398 entries, 0 to 397\n",
      "Data columns (total 9 columns):\n",
      " #   Column        Non-Null Count  Dtype  \n",
      "---  ------        --------------  -----  \n",
      " 0   mpg           398 non-null    float64\n",
      " 1   cylinders     398 non-null    int64  \n",
      " 2   displacement  398 non-null    float64\n",
      " 3   horsepower    398 non-null    object \n",
      " 4   weight        398 non-null    int64  \n",
      " 5   acceleration  398 non-null    float64\n",
      " 6   model year    398 non-null    int64  \n",
      " 7   origin        398 non-null    int64  \n",
      " 8   car name      398 non-null    object \n",
      "dtypes: float64(3), int64(4), object(2)\n",
      "memory usage: 28.1+ KB\n"
     ]
    }
   ],
   "source": [
    "df.info()\n"
   ]
  },
  {
   "cell_type": "code",
   "execution_count": 5,
   "id": "c1d0a112-b21d-4d85-8a48-fdae0efb3288",
   "metadata": {},
   "outputs": [
    {
     "data": {
      "text/html": [
       "<div>\n",
       "<style scoped>\n",
       "    .dataframe tbody tr th:only-of-type {\n",
       "        vertical-align: middle;\n",
       "    }\n",
       "\n",
       "    .dataframe tbody tr th {\n",
       "        vertical-align: top;\n",
       "    }\n",
       "\n",
       "    .dataframe thead th {\n",
       "        text-align: right;\n",
       "    }\n",
       "</style>\n",
       "<table border=\"1\" class=\"dataframe\">\n",
       "  <thead>\n",
       "    <tr style=\"text-align: right;\">\n",
       "      <th></th>\n",
       "      <th>mpg</th>\n",
       "      <th>cylinders</th>\n",
       "      <th>displacement</th>\n",
       "      <th>weight</th>\n",
       "      <th>acceleration</th>\n",
       "      <th>model year</th>\n",
       "      <th>origin</th>\n",
       "    </tr>\n",
       "  </thead>\n",
       "  <tbody>\n",
       "    <tr>\n",
       "      <th>count</th>\n",
       "      <td>398.000000</td>\n",
       "      <td>398.000000</td>\n",
       "      <td>398.000000</td>\n",
       "      <td>398.000000</td>\n",
       "      <td>398.000000</td>\n",
       "      <td>398.000000</td>\n",
       "      <td>398.000000</td>\n",
       "    </tr>\n",
       "    <tr>\n",
       "      <th>mean</th>\n",
       "      <td>23.514573</td>\n",
       "      <td>5.454774</td>\n",
       "      <td>193.425879</td>\n",
       "      <td>2970.424623</td>\n",
       "      <td>15.568090</td>\n",
       "      <td>76.010050</td>\n",
       "      <td>1.572864</td>\n",
       "    </tr>\n",
       "    <tr>\n",
       "      <th>std</th>\n",
       "      <td>7.815984</td>\n",
       "      <td>1.701004</td>\n",
       "      <td>104.269838</td>\n",
       "      <td>846.841774</td>\n",
       "      <td>2.757689</td>\n",
       "      <td>3.697627</td>\n",
       "      <td>0.802055</td>\n",
       "    </tr>\n",
       "    <tr>\n",
       "      <th>min</th>\n",
       "      <td>9.000000</td>\n",
       "      <td>3.000000</td>\n",
       "      <td>68.000000</td>\n",
       "      <td>1613.000000</td>\n",
       "      <td>8.000000</td>\n",
       "      <td>70.000000</td>\n",
       "      <td>1.000000</td>\n",
       "    </tr>\n",
       "    <tr>\n",
       "      <th>25%</th>\n",
       "      <td>17.500000</td>\n",
       "      <td>4.000000</td>\n",
       "      <td>104.250000</td>\n",
       "      <td>2223.750000</td>\n",
       "      <td>13.825000</td>\n",
       "      <td>73.000000</td>\n",
       "      <td>1.000000</td>\n",
       "    </tr>\n",
       "    <tr>\n",
       "      <th>50%</th>\n",
       "      <td>23.000000</td>\n",
       "      <td>4.000000</td>\n",
       "      <td>148.500000</td>\n",
       "      <td>2803.500000</td>\n",
       "      <td>15.500000</td>\n",
       "      <td>76.000000</td>\n",
       "      <td>1.000000</td>\n",
       "    </tr>\n",
       "    <tr>\n",
       "      <th>75%</th>\n",
       "      <td>29.000000</td>\n",
       "      <td>8.000000</td>\n",
       "      <td>262.000000</td>\n",
       "      <td>3608.000000</td>\n",
       "      <td>17.175000</td>\n",
       "      <td>79.000000</td>\n",
       "      <td>2.000000</td>\n",
       "    </tr>\n",
       "    <tr>\n",
       "      <th>max</th>\n",
       "      <td>46.600000</td>\n",
       "      <td>8.000000</td>\n",
       "      <td>455.000000</td>\n",
       "      <td>5140.000000</td>\n",
       "      <td>24.800000</td>\n",
       "      <td>82.000000</td>\n",
       "      <td>3.000000</td>\n",
       "    </tr>\n",
       "  </tbody>\n",
       "</table>\n",
       "</div>"
      ],
      "text/plain": [
       "              mpg   cylinders  displacement       weight  acceleration  \\\n",
       "count  398.000000  398.000000    398.000000   398.000000    398.000000   \n",
       "mean    23.514573    5.454774    193.425879  2970.424623     15.568090   \n",
       "std      7.815984    1.701004    104.269838   846.841774      2.757689   \n",
       "min      9.000000    3.000000     68.000000  1613.000000      8.000000   \n",
       "25%     17.500000    4.000000    104.250000  2223.750000     13.825000   \n",
       "50%     23.000000    4.000000    148.500000  2803.500000     15.500000   \n",
       "75%     29.000000    8.000000    262.000000  3608.000000     17.175000   \n",
       "max     46.600000    8.000000    455.000000  5140.000000     24.800000   \n",
       "\n",
       "       model year      origin  \n",
       "count  398.000000  398.000000  \n",
       "mean    76.010050    1.572864  \n",
       "std      3.697627    0.802055  \n",
       "min     70.000000    1.000000  \n",
       "25%     73.000000    1.000000  \n",
       "50%     76.000000    1.000000  \n",
       "75%     79.000000    2.000000  \n",
       "max     82.000000    3.000000  "
      ]
     },
     "execution_count": 5,
     "metadata": {},
     "output_type": "execute_result"
    }
   ],
   "source": [
    "df.describe()"
   ]
  },
  {
   "cell_type": "code",
   "execution_count": 6,
   "id": "3c92e73c-cf76-45d3-aa90-8fba9ad71c6d",
   "metadata": {},
   "outputs": [
    {
     "data": {
      "text/plain": [
       "array(['130', '165', '150', '140', '198', '220', '215', '225', '190',\n",
       "       '170', '160', '95', '97', '85', '88', '46', '87', '90', '113',\n",
       "       '200', '210', '193', '?', '100', '105', '175', '153', '180', '110',\n",
       "       '72', '86', '70', '76', '65', '69', '60', '80', '54', '208', '155',\n",
       "       '112', '92', '145', '137', '158', '167', '94', '107', '230', '49',\n",
       "       '75', '91', '122', '67', '83', '78', '52', '61', '93', '148',\n",
       "       '129', '96', '71', '98', '115', '53', '81', '79', '120', '152',\n",
       "       '102', '108', '68', '58', '149', '89', '63', '48', '66', '139',\n",
       "       '103', '125', '133', '138', '135', '142', '77', '62', '132', '84',\n",
       "       '64', '74', '116', '82'], dtype=object)"
      ]
     },
     "execution_count": 6,
     "metadata": {},
     "output_type": "execute_result"
    }
   ],
   "source": [
    "df['horsepower'].unique()"
   ]
  },
  {
   "cell_type": "code",
   "execution_count": 7,
   "id": "a8e9c961-2e55-470c-b7fb-b8b4819819db",
   "metadata": {},
   "outputs": [
    {
     "name": "stdout",
     "output_type": "stream",
     "text": [
      "(398, 9)\n",
      "(392, 9)\n"
     ]
    }
   ],
   "source": [
    "print(df.shape)\n",
    "df = df[df['horsepower'] != '?']\n",
    "print(df.shape)"
   ]
  },
  {
   "cell_type": "code",
   "execution_count": 8,
   "id": "f5d53c6f-b8c9-41e5-9cff-767992f9152f",
   "metadata": {},
   "outputs": [
    {
     "data": {
      "text/plain": [
       "mpg             0\n",
       "cylinders       0\n",
       "displacement    0\n",
       "horsepower      0\n",
       "weight          0\n",
       "acceleration    0\n",
       "model year      0\n",
       "origin          0\n",
       "car name        0\n",
       "dtype: int64"
      ]
     },
     "execution_count": 8,
     "metadata": {},
     "output_type": "execute_result"
    }
   ],
   "source": [
    "df['horsepower'] = df['horsepower'].astype(int)\n",
    "df.isnull().sum()"
   ]
  },
  {
   "cell_type": "code",
   "execution_count": 9,
   "id": "a3ff876c-e545-4f7f-893f-139cf07e4b51",
   "metadata": {},
   "outputs": [
    {
     "data": {
      "text/plain": [
       "mpg             127\n",
       "cylinders         5\n",
       "displacement     81\n",
       "horsepower       93\n",
       "weight          346\n",
       "acceleration     95\n",
       "model year       13\n",
       "origin            3\n",
       "car name        301\n",
       "dtype: int64"
      ]
     },
     "execution_count": 9,
     "metadata": {},
     "output_type": "execute_result"
    }
   ],
   "source": [
    "df.nunique()"
   ]
  },
  {
   "cell_type": "code",
   "execution_count": 10,
   "id": "71160612-63da-460c-b186-73bf3f96e692",
   "metadata": {},
   "outputs": [
    {
     "data": {
      "image/png": "[encoded data removed]",
      "text/plain": [
       "<Figure size 1500x500 with 3 Axes>"
      ]
     },
     "metadata": {},
     "output_type": "display_data"
    }
   ],
   "source": [
    "# Select only numeric columns for correlation calculation\n",
    "numeric_df = df.select_dtypes(include=['number'])\n",
    "\n",
    "plt.subplots(figsize=(15, 5))\n",
    "for i, col in enumerate(['cylinders', 'origin']):\n",
    "    plt.subplot(1, 2, i+1)\n",
    "    x = numeric_df.groupby(col).mean()['mpg']\n",
    "    x.plot.bar()\n",
    "    plt.xticks(rotation=0)\n",
    "plt.tight_layout()\n",
    "plt.show()"
   ]
  },
  {
   "cell_type": "code",
   "execution_count": 11,
   "id": "d430c154-e669-4008-9c11-a7cd5abb7d21",
   "metadata": {},
   "outputs": [
    {
     "data": {
      "image/png": "[encoded data removed]",
      "text/plain": [
       "<Figure size 800x800 with 1 Axes>"
      ]
     },
     "metadata": {},
     "output_type": "display_data"
    }
   ],
   "source": [
    "plt.figure(figsize=(8, 8)) \n",
    "sb.heatmap(numeric_df.corr() > 0.9, \n",
    "        annot=True, \n",
    "        cbar=False) \n",
    "plt.show()\n"
   ]
  },
  {
   "cell_type": "code",
   "execution_count": 12,
   "id": "0d46ecd7-ede0-4024-bbbb-19d10d4f8a96",
   "metadata": {},
   "outputs": [],
   "source": [
    "df.drop('displacement',\n",
    "        axis=1,\n",
    "        inplace=True)"
   ]
  },
  {
   "cell_type": "code",
   "execution_count": 13,
   "id": "5c0d544e-64be-4ba7-a0b6-99e72b56b682",
   "metadata": {},
   "outputs": [
    {
     "data": {
      "text/plain": [
       "((313, 6), (79, 6))"
      ]
     },
     "execution_count": 13,
     "metadata": {},
     "output_type": "execute_result"
    }
   ],
   "source": [
    "from sklearn.model_selection import train_test_split\n",
    "features = df.drop(['mpg', 'car name'], axis=1)\n",
    "target = df['mpg'].values\n",
    "\n",
    "X_train, X_val, \\\n",
    "    Y_train, Y_val = train_test_split(features, target,\n",
    "                                      test_size=0.2,\n",
    "                                      random_state=22)\n",
    "X_train.shape, X_val.shape"
   ]
  },
  {
   "cell_type": "code",
   "execution_count": 14,
   "id": "40d04d73-caf5-400d-bae2-85ddcfbf7bf0",
   "metadata": {},
   "outputs": [],
   "source": [
    "AUTO = tf.data.experimental.AUTOTUNE\n",
    "\n",
    "train_ds = (\n",
    "    tf.data.Dataset\n",
    "    .from_tensor_slices((X_train, Y_train))\n",
    "    .batch(32)\n",
    "    .prefetch(AUTO)\n",
    ")\n",
    "\n",
    "val_ds = (\n",
    "    tf.data.Dataset\n",
    "    .from_tensor_slices((X_val, Y_val))\n",
    "    .batch(32)\n",
    "    .prefetch(AUTO)\n",
    ")"
   ]
  },
  {
   "cell_type": "code",
   "execution_count": 15,
   "id": "226b8607-2f2c-4031-957f-1e688ed4edc0",
   "metadata": {},
   "outputs": [],
   "source": [
    "model = keras.Sequential([\n",
    "    layers.Dense(256, activation='relu', input_shape=[6]),\n",
    "    layers.BatchNormalization(),\n",
    "    layers.Dense(256, activation='relu'),\n",
    "    layers.Dropout(0.3),\n",
    "    layers.BatchNormalization(),\n",
    "    layers.Dense(1, activation='relu')\n",
    "])"
   ]
  },
  {
   "cell_type": "code",
   "execution_count": 16,
   "id": "d28a5ce3-1c89-4dd2-a16d-8da1f4e57f14",
   "metadata": {},
   "outputs": [],
   "source": [
    "model.compile(\n",
    "    loss='mae',\n",
    "    optimizer='adam',\n",
    "    metrics=['mape']\n",
    ")"
   ]
  },
  {
   "cell_type": "code",
   "execution_count": 17,
   "id": "61f2037c-de21-4c9d-b656-ef17ed5fca0c",
   "metadata": {},
   "outputs": [
    {
     "data": {
      "text/html": [
       "<pre style=\"white-space:pre;overflow-x:auto;line-height:normal;font-family:Menlo,'DejaVu Sans Mono',consolas,'Courier New',monospace\"><span style=\"font-weight: bold\">Model: \"sequential\"</span>\n",
       "</pre>\n"
      ],
      "text/plain": [
       "\u001b[1mModel: \"sequential\"\u001b[0m\n"
      ]
     },
     "metadata": {},
     "output_type": "display_data"
    },
    {
     "data": {
      "text/html": [
       "<pre style=\"white-space:pre;overflow-x:auto;line-height:normal;font-family:Menlo,'DejaVu Sans Mono',consolas,'Courier New',monospace\">┏━━━━━━━━━━━━━━━━━━━━━━━━━━━━━━━━━━━━━━┳━━━━━━━━━━━━━━━━━━━━━━━━━━━━━┳━━━━━━━━━━━━━━━━━┓\n",
       "┃<span style=\"font-weight: bold\"> Layer (type)                         </span>┃<span style=\"font-weight: bold\"> Output Shape                </span>┃<span style=\"font-weight: bold\">         Param # </span>┃\n",
       "┡━━━━━━━━━━━━━━━━━━━━━━━━━━━━━━━━━━━━━━╇━━━━━━━━━━━━━━━━━━━━━━━━━━━━━╇━━━━━━━━━━━━━━━━━┩\n",
       "│ dense (<span style=\"color: #0087ff; text-decoration-color: #0087ff\">Dense</span>)                        │ (<span style=\"color: #00d7ff; text-decoration-color: #00d7ff\">None</span>, <span style=\"color: #00af00; text-decoration-color: #00af00\">256</span>)                 │           <span style=\"color: #00af00; text-decoration-color: #00af00\">1,792</span> │\n",
       "├──────────────────────────────────────┼─────────────────────────────┼─────────────────┤\n",
       "│ batch_normalization                  │ (<span style=\"color: #00d7ff; text-decoration-color: #00d7ff\">None</span>, <span style=\"color: #00af00; text-decoration-color: #00af00\">256</span>)                 │           <span style=\"color: #00af00; text-decoration-color: #00af00\">1,024</span> │\n",
       "│ (<span style=\"color: #0087ff; text-decoration-color: #0087ff\">BatchNormalization</span>)                 │                             │                 │\n",
       "├──────────────────────────────────────┼─────────────────────────────┼─────────────────┤\n",
       "│ dense_1 (<span style=\"color: #0087ff; text-decoration-color: #0087ff\">Dense</span>)                      │ (<span style=\"color: #00d7ff; text-decoration-color: #00d7ff\">None</span>, <span style=\"color: #00af00; text-decoration-color: #00af00\">256</span>)                 │          <span style=\"color: #00af00; text-decoration-color: #00af00\">65,792</span> │\n",
       "├──────────────────────────────────────┼─────────────────────────────┼─────────────────┤\n",
       "│ dropout (<span style=\"color: #0087ff; text-decoration-color: #0087ff\">Dropout</span>)                    │ (<span style=\"color: #00d7ff; text-decoration-color: #00d7ff\">None</span>, <span style=\"color: #00af00; text-decoration-color: #00af00\">256</span>)                 │               <span style=\"color: #00af00; text-decoration-color: #00af00\">0</span> │\n",
       "├──────────────────────────────────────┼─────────────────────────────┼─────────────────┤\n",
       "│ batch_normalization_1                │ (<span style=\"color: #00d7ff; text-decoration-color: #00d7ff\">None</span>, <span style=\"color: #00af00; text-decoration-color: #00af00\">256</span>)                 │           <span style=\"color: #00af00; text-decoration-color: #00af00\">1,024</span> │\n",
       "│ (<span style=\"color: #0087ff; text-decoration-color: #0087ff\">BatchNormalization</span>)                 │                             │                 │\n",
       "├──────────────────────────────────────┼─────────────────────────────┼─────────────────┤\n",
       "│ dense_2 (<span style=\"color: #0087ff; text-decoration-color: #0087ff\">Dense</span>)                      │ (<span style=\"color: #00d7ff; text-decoration-color: #00d7ff\">None</span>, <span style=\"color: #00af00; text-decoration-color: #00af00\">1</span>)                   │             <span style=\"color: #00af00; text-decoration-color: #00af00\">257</span> │\n",
       "└──────────────────────────────────────┴─────────────────────────────┴─────────────────┘\n",
       "</pre>\n"
      ],
      "text/plain": [
       "┏━━━━━━━━━━━━━━━━━━━━━━━━━━━━━━━━━━━━━━┳━━━━━━━━━━━━━━━━━━━━━━━━━━━━━┳━━━━━━━━━━━━━━━━━┓\n",
       "┃\u001b[1m \u001b[0m\u001b[1mLayer (type)                        \u001b[0m\u001b[1m \u001b[0m┃\u001b[1m \u001b[0m\u001b[1mOutput Shape               \u001b[0m\u001b[1m \u001b[0m┃\u001b[1m \u001b[0m\u001b[1m        Param #\u001b[0m\u001b[1m \u001b[0m┃\n",
       "┡━━━━━━━━━━━━━━━━━━━━━━━━━━━━━━━━━━━━━━╇━━━━━━━━━━━━━━━━━━━━━━━━━━━━━╇━━━━━━━━━━━━━━━━━┩\n",
       "│ dense (\u001b[38;5;33mDense\u001b[0m)                        │ (\u001b[38;5;45mNone\u001b[0m, \u001b[38;5;34m256\u001b[0m)                 │           \u001b[38;5;34m1,792\u001b[0m │\n",
       "├──────────────────────────────────────┼─────────────────────────────┼─────────────────┤\n",
       "│ batch_normalization                  │ (\u001b[38;5;45mNone\u001b[0m, \u001b[38;5;34m256\u001b[0m)                 │           \u001b[38;5;34m1,024\u001b[0m │\n",
       "│ (\u001b[38;5;33mBatchNormalization\u001b[0m)                 │                             │                 │\n",
       "├──────────────────────────────────────┼─────────────────────────────┼─────────────────┤\n",
       "│ dense_1 (\u001b[38;5;33mDense\u001b[0m)                      │ (\u001b[38;5;45mNone\u001b[0m, \u001b[38;5;34m256\u001b[0m)                 │          \u001b[38;5;34m65,792\u001b[0m │\n",
       "├──────────────────────────────────────┼─────────────────────────────┼─────────────────┤\n",
       "│ dropout (\u001b[38;5;33mDropout\u001b[0m)                    │ (\u001b[38;5;45mNone\u001b[0m, \u001b[38;5;34m256\u001b[0m)                 │               \u001b[38;5;34m0\u001b[0m │\n",
       "├──────────────────────────────────────┼─────────────────────────────┼─────────────────┤\n",
       "│ batch_normalization_1                │ (\u001b[38;5;45mNone\u001b[0m, \u001b[38;5;34m256\u001b[0m)                 │           \u001b[38;5;34m1,024\u001b[0m │\n",
       "│ (\u001b[38;5;33mBatchNormalization\u001b[0m)                 │                             │                 │\n",
       "├──────────────────────────────────────┼─────────────────────────────┼─────────────────┤\n",
       "│ dense_2 (\u001b[38;5;33mDense\u001b[0m)                      │ (\u001b[38;5;45mNone\u001b[0m, \u001b[38;5;34m1\u001b[0m)                   │             \u001b[38;5;34m257\u001b[0m │\n",
       "└──────────────────────────────────────┴─────────────────────────────┴─────────────────┘\n"
      ]
     },
     "metadata": {},
     "output_type": "display_data"
    },
    {
     "data": {
      "text/html": [
       "<pre style=\"white-space:pre;overflow-x:auto;line-height:normal;font-family:Menlo,'DejaVu Sans Mono',consolas,'Courier New',monospace\"><span style=\"font-weight: bold\"> Total params: </span><span style=\"color: #00af00; text-decoration-color: #00af00\">69,889</span> (273.00 KB)\n",
       "</pre>\n"
      ],
      "text/plain": [
       "\u001b[1m Total params: \u001b[0m\u001b[38;5;34m69,889\u001b[0m (273.00 KB)\n"
      ]
     },
     "metadata": {},
     "output_type": "display_data"
    },
    {
     "data": {
      "text/html": [
       "<pre style=\"white-space:pre;overflow-x:auto;line-height:normal;font-family:Menlo,'DejaVu Sans Mono',consolas,'Courier New',monospace\"><span style=\"font-weight: bold\"> Trainable params: </span><span style=\"color: #00af00; text-decoration-color: #00af00\">68,865</span> (269.00 KB)\n",
       "</pre>\n"
      ],
      "text/plain": [
       "\u001b[1m Trainable params: \u001b[0m\u001b[38;5;34m68,865\u001b[0m (269.00 KB)\n"
      ]
     },
     "metadata": {},
     "output_type": "display_data"
    },
    {
     "data": {
      "text/html": [
       "<pre style=\"white-space:pre;overflow-x:auto;line-height:normal;font-family:Menlo,'DejaVu Sans Mono',consolas,'Courier New',monospace\"><span style=\"font-weight: bold\"> Non-trainable params: </span><span style=\"color: #00af00; text-decoration-color: #00af00\">1,024</span> (4.00 KB)\n",
       "</pre>\n"
      ],
      "text/plain": [
       "\u001b[1m Non-trainable params: \u001b[0m\u001b[38;5;34m1,024\u001b[0m (4.00 KB)\n"
      ]
     },
     "metadata": {},
     "output_type": "display_data"
    }
   ],
   "source": [
    "model.summary()"
   ]
  },
  {
   "cell_type": "code",
   "execution_count": 18,
   "id": "803036fc-5b03-4df2-910b-489776ac67a1",
   "metadata": {},
   "outputs": [
    {
     "name": "stdout",
     "output_type": "stream",
     "text": [
      "Epoch 1/50\n",
      "\u001b[1m10/10\u001b[0m \u001b[32m━━━━━━━━━━━━━━━━━━━━\u001b[0m\u001b[37m\u001b[0m \u001b[1m5s\u001b[0m 45ms/step - loss: 22.0198 - mape: 93.8866 - val_loss: 22.4190 - val_mape: 100.0000\n",
      "Epoch 2/50\n",
      "\u001b[1m10/10\u001b[0m \u001b[32m━━━━━━━━━━━━━━━━━━━━\u001b[0m\u001b[37m\u001b[0m \u001b[1m0s\u001b[0m 5ms/step - loss: 18.6788 - mape: 82.6031 - val_loss: 22.4190 - val_mape: 100.0000\n",
      "Epoch 3/50\n",
      "\u001b[1m10/10\u001b[0m \u001b[32m━━━━━━━━━━━━━━━━━━━━\u001b[0m\u001b[37m\u001b[0m \u001b[1m0s\u001b[0m 5ms/step - loss: 17.2077 - mape: 77.5905 - val_loss: 22.4190 - val_mape: 100.0000\n",
      "Epoch 4/50\n",
      "\u001b[1m10/10\u001b[0m \u001b[32m━━━━━━━━━━━━━━━━━━━━\u001b[0m\u001b[37m\u001b[0m \u001b[1m0s\u001b[0m 3ms/step - loss: 15.9699 - mape: 73.2702 - val_loss: 22.4190 - val_mape: 100.0000\n",
      "Epoch 5/50\n",
      "\u001b[1m10/10\u001b[0m \u001b[32m━━━━━━━━━━━━━━━━━━━━\u001b[0m\u001b[37m\u001b[0m \u001b[1m0s\u001b[0m 5ms/step - loss: 14.5292 - mape: 68.2412 - val_loss: 22.4190 - val_mape: 100.0000\n",
      "Epoch 6/50\n",
      "\u001b[1m10/10\u001b[0m \u001b[32m━━━━━━━━━━━━━━━━━━━━\u001b[0m\u001b[37m\u001b[0m \u001b[1m0s\u001b[0m 3ms/step - loss: 13.3197 - mape: 64.1227 - val_loss: 22.4190 - val_mape: 100.0000\n",
      "Epoch 7/50\n",
      "\u001b[1m10/10\u001b[0m \u001b[32m━━━━━━━━━━━━━━━━━━━━\u001b[0m\u001b[37m\u001b[0m \u001b[1m0s\u001b[0m 5ms/step - loss: 12.2737 - mape: 60.3248 - val_loss: 22.4190 - val_mape: 100.0000\n",
      "Epoch 8/50\n",
      "\u001b[1m10/10\u001b[0m \u001b[32m━━━━━━━━━━━━━━━━━━━━\u001b[0m\u001b[37m\u001b[0m \u001b[1m0s\u001b[0m 5ms/step - loss: 11.5133 - mape: 57.4201 - val_loss: 22.4152 - val_mape: 99.9895\n",
      "Epoch 9/50\n",
      "\u001b[1m10/10\u001b[0m \u001b[32m━━━━━━━━━━━━━━━━━━━━\u001b[0m\u001b[37m\u001b[0m \u001b[1m0s\u001b[0m 3ms/step - loss: 10.7651 - mape: 54.6297 - val_loss: 22.0332 - val_mape: 98.8296\n",
      "Epoch 10/50\n",
      "\u001b[1m10/10\u001b[0m \u001b[32m━━━━━━━━━━━━━━━━━━━━\u001b[0m\u001b[37m\u001b[0m \u001b[1m0s\u001b[0m 4ms/step - loss: 10.2735 - mape: 52.6522 - val_loss: 20.9885 - val_mape: 95.5944\n",
      "Epoch 11/50\n",
      "\u001b[1m10/10\u001b[0m \u001b[32m━━━━━━━━━━━━━━━━━━━━\u001b[0m\u001b[37m\u001b[0m \u001b[1m0s\u001b[0m 5ms/step - loss: 9.7816 - mape: 50.6692 - val_loss: 18.9564 - val_mape: 89.3284\n",
      "Epoch 12/50\n",
      "\u001b[1m10/10\u001b[0m \u001b[32m━━━━━━━━━━━━━━━━━━━━\u001b[0m\u001b[37m\u001b[0m \u001b[1m0s\u001b[0m 12ms/step - loss: 9.4085 - mape: 48.9321 - val_loss: 16.6548 - val_mape: 81.8673\n",
      "Epoch 13/50\n",
      "\u001b[1m10/10\u001b[0m \u001b[32m━━━━━━━━━━━━━━━━━━━━\u001b[0m\u001b[37m\u001b[0m \u001b[1m0s\u001b[0m 7ms/step - loss: 8.8593 - mape: 46.7268 - val_loss: 14.2701 - val_mape: 73.4695\n",
      "Epoch 14/50\n",
      "\u001b[1m10/10\u001b[0m \u001b[32m━━━━━━━━━━━━━━━━━━━━\u001b[0m\u001b[37m\u001b[0m \u001b[1m0s\u001b[0m 5ms/step - loss: 8.5464 - mape: 45.3638 - val_loss: 12.5524 - val_mape: 67.0555\n",
      "Epoch 15/50\n",
      "\u001b[1m10/10\u001b[0m \u001b[32m━━━━━━━━━━━━━━━━━━━━\u001b[0m\u001b[37m\u001b[0m \u001b[1m0s\u001b[0m 3ms/step - loss: 7.9693 - mape: 43.3260 - val_loss: 10.8840 - val_mape: 59.7339\n",
      "Epoch 16/50\n",
      "\u001b[1m10/10\u001b[0m \u001b[32m━━━━━━━━━━━━━━━━━━━━\u001b[0m\u001b[37m\u001b[0m \u001b[1m0s\u001b[0m 3ms/step - loss: 8.0207 - mape: 43.1717 - val_loss: 10.3920 - val_mape: 55.4211\n",
      "Epoch 17/50\n",
      "\u001b[1m10/10\u001b[0m \u001b[32m━━━━━━━━━━━━━━━━━━━━\u001b[0m\u001b[37m\u001b[0m \u001b[1m0s\u001b[0m 5ms/step - loss: 7.6101 - mape: 41.5207 - val_loss: 11.4443 - val_mape: 58.1024\n",
      "Epoch 18/50\n",
      "\u001b[1m10/10\u001b[0m \u001b[32m━━━━━━━━━━━━━━━━━━━━\u001b[0m\u001b[37m\u001b[0m \u001b[1m0s\u001b[0m 5ms/step - loss: 7.7554 - mape: 41.5169 - val_loss: 14.5706 - val_mape: 70.8645\n",
      "Epoch 19/50\n",
      "\u001b[1m10/10\u001b[0m \u001b[32m━━━━━━━━━━━━━━━━━━━━\u001b[0m\u001b[37m\u001b[0m \u001b[1m0s\u001b[0m 3ms/step - loss: 7.2044 - mape: 39.6175 - val_loss: 17.2287 - val_mape: 82.2140\n",
      "Epoch 20/50\n",
      "\u001b[1m10/10\u001b[0m \u001b[32m━━━━━━━━━━━━━━━━━━━━\u001b[0m\u001b[37m\u001b[0m \u001b[1m0s\u001b[0m 5ms/step - loss: 7.0869 - mape: 38.9273 - val_loss: 18.2845 - val_mape: 89.6839\n",
      "Epoch 21/50\n",
      "\u001b[1m10/10\u001b[0m \u001b[32m━━━━━━━━━━━━━━━━━━━━\u001b[0m\u001b[37m\u001b[0m \u001b[1m0s\u001b[0m 5ms/step - loss: 6.8686 - mape: 37.6186 - val_loss: 18.7685 - val_mape: 94.8713\n",
      "Epoch 22/50\n",
      "\u001b[1m10/10\u001b[0m \u001b[32m━━━━━━━━━━━━━━━━━━━━\u001b[0m\u001b[37m\u001b[0m \u001b[1m0s\u001b[0m 3ms/step - loss: 6.6103 - mape: 36.4018 - val_loss: 20.0721 - val_mape: 103.0077\n",
      "Epoch 23/50\n",
      "\u001b[1m10/10\u001b[0m \u001b[32m━━━━━━━━━━━━━━━━━━━━\u001b[0m\u001b[37m\u001b[0m \u001b[1m0s\u001b[0m 5ms/step - loss: 6.5416 - mape: 36.1803 - val_loss: 18.4237 - val_mape: 90.2264\n",
      "Epoch 24/50\n",
      "\u001b[1m10/10\u001b[0m \u001b[32m━━━━━━━━━━━━━━━━━━━━\u001b[0m\u001b[37m\u001b[0m \u001b[1m0s\u001b[0m 5ms/step - loss: 6.3802 - mape: 35.4224 - val_loss: 16.8924 - val_mape: 84.1699\n",
      "Epoch 25/50\n",
      "\u001b[1m10/10\u001b[0m \u001b[32m━━━━━━━━━━━━━━━━━━━━\u001b[0m\u001b[37m\u001b[0m \u001b[1m0s\u001b[0m 3ms/step - loss: 6.3374 - mape: 34.7241 - val_loss: 15.3082 - val_mape: 75.5834\n",
      "Epoch 26/50\n",
      "\u001b[1m10/10\u001b[0m \u001b[32m━━━━━━━━━━━━━━━━━━━━\u001b[0m\u001b[37m\u001b[0m \u001b[1m0s\u001b[0m 3ms/step - loss: 5.9990 - mape: 33.5492 - val_loss: 14.8974 - val_mape: 75.0637\n",
      "Epoch 27/50\n",
      "\u001b[1m10/10\u001b[0m \u001b[32m━━━━━━━━━━━━━━━━━━━━\u001b[0m\u001b[37m\u001b[0m \u001b[1m0s\u001b[0m 5ms/step - loss: 6.0153 - mape: 32.7655 - val_loss: 13.0918 - val_mape: 65.1008\n",
      "Epoch 28/50\n",
      "\u001b[1m10/10\u001b[0m \u001b[32m━━━━━━━━━━━━━━━━━━━━\u001b[0m\u001b[37m\u001b[0m \u001b[1m0s\u001b[0m 5ms/step - loss: 5.7818 - mape: 32.3641 - val_loss: 13.5887 - val_mape: 68.2664\n",
      "Epoch 29/50\n",
      "\u001b[1m10/10\u001b[0m \u001b[32m━━━━━━━━━━━━━━━━━━━━\u001b[0m\u001b[37m\u001b[0m \u001b[1m0s\u001b[0m 4ms/step - loss: 5.7571 - mape: 31.6479 - val_loss: 12.3004 - val_mape: 60.8008\n",
      "Epoch 30/50\n",
      "\u001b[1m10/10\u001b[0m \u001b[32m━━━━━━━━━━━━━━━━━━━━\u001b[0m\u001b[37m\u001b[0m \u001b[1m0s\u001b[0m 5ms/step - loss: 5.6606 - mape: 31.6013 - val_loss: 13.6183 - val_mape: 70.5468\n",
      "Epoch 31/50\n",
      "\u001b[1m10/10\u001b[0m \u001b[32m━━━━━━━━━━━━━━━━━━━━\u001b[0m\u001b[37m\u001b[0m \u001b[1m0s\u001b[0m 5ms/step - loss: 5.6131 - mape: 29.6192 - val_loss: 11.9489 - val_mape: 60.4778\n",
      "Epoch 32/50\n",
      "\u001b[1m10/10\u001b[0m \u001b[32m━━━━━━━━━━━━━━━━━━━━\u001b[0m\u001b[37m\u001b[0m \u001b[1m0s\u001b[0m 5ms/step - loss: 5.5390 - mape: 31.1575 - val_loss: 10.9596 - val_mape: 56.2275\n",
      "Epoch 33/50\n",
      "\u001b[1m10/10\u001b[0m \u001b[32m━━━━━━━━━━━━━━━━━━━━\u001b[0m\u001b[37m\u001b[0m \u001b[1m0s\u001b[0m 5ms/step - loss: 5.4841 - mape: 29.9979 - val_loss: 11.9031 - val_mape: 60.6198\n",
      "Epoch 34/50\n",
      "\u001b[1m10/10\u001b[0m \u001b[32m━━━━━━━━━━━━━━━━━━━━\u001b[0m\u001b[37m\u001b[0m \u001b[1m0s\u001b[0m 5ms/step - loss: 4.9659 - mape: 27.8026 - val_loss: 12.0363 - val_mape: 61.7350\n",
      "Epoch 35/50\n",
      "\u001b[1m10/10\u001b[0m \u001b[32m━━━━━━━━━━━━━━━━━━━━\u001b[0m\u001b[37m\u001b[0m \u001b[1m0s\u001b[0m 5ms/step - loss: 4.9015 - mape: 26.6288 - val_loss: 11.6820 - val_mape: 61.0019\n",
      "Epoch 36/50\n",
      "\u001b[1m10/10\u001b[0m \u001b[32m━━━━━━━━━━━━━━━━━━━━\u001b[0m\u001b[37m\u001b[0m \u001b[1m0s\u001b[0m 7ms/step - loss: 4.7189 - mape: 25.4355 - val_loss: 10.0269 - val_mape: 52.1751\n",
      "Epoch 37/50\n",
      "\u001b[1m10/10\u001b[0m \u001b[32m━━━━━━━━━━━━━━━━━━━━\u001b[0m\u001b[37m\u001b[0m \u001b[1m0s\u001b[0m 5ms/step - loss: 4.6574 - mape: 24.8460 - val_loss: 8.5746 - val_mape: 43.0646\n",
      "Epoch 38/50\n",
      "\u001b[1m10/10\u001b[0m \u001b[32m━━━━━━━━━━━━━━━━━━━━\u001b[0m\u001b[37m\u001b[0m \u001b[1m0s\u001b[0m 5ms/step - loss: 4.4693 - mape: 24.5791 - val_loss: 9.2088 - val_mape: 47.6096\n",
      "Epoch 39/50\n",
      "\u001b[1m10/10\u001b[0m \u001b[32m━━━━━━━━━━━━━━━━━━━━\u001b[0m\u001b[37m\u001b[0m \u001b[1m0s\u001b[0m 7ms/step - loss: 4.8777 - mape: 25.4156 - val_loss: 6.4207 - val_mape: 33.7629\n",
      "Epoch 40/50\n",
      "\u001b[1m10/10\u001b[0m \u001b[32m━━━━━━━━━━━━━━━━━━━━\u001b[0m\u001b[37m\u001b[0m \u001b[1m0s\u001b[0m 6ms/step - loss: 4.6213 - mape: 24.4958 - val_loss: 4.1288 - val_mape: 22.6315\n",
      "Epoch 41/50\n",
      "\u001b[1m10/10\u001b[0m \u001b[32m━━━━━━━━━━━━━━━━━━━━\u001b[0m\u001b[37m\u001b[0m \u001b[1m0s\u001b[0m 5ms/step - loss: 4.6011 - mape: 24.0874 - val_loss: 4.6258 - val_mape: 24.8965\n",
      "Epoch 42/50\n",
      "\u001b[1m10/10\u001b[0m \u001b[32m━━━━━━━━━━━━━━━━━━━━\u001b[0m\u001b[37m\u001b[0m \u001b[1m0s\u001b[0m 6ms/step - loss: 4.5135 - mape: 23.7445 - val_loss: 7.6015 - val_mape: 39.3334\n",
      "Epoch 43/50\n",
      "\u001b[1m10/10\u001b[0m \u001b[32m━━━━━━━━━━━━━━━━━━━━\u001b[0m\u001b[37m\u001b[0m \u001b[1m0s\u001b[0m 3ms/step - loss: 4.4532 - mape: 23.7406 - val_loss: 8.5953 - val_mape: 45.8904\n",
      "Epoch 44/50\n",
      "\u001b[1m10/10\u001b[0m \u001b[32m━━━━━━━━━━━━━━━━━━━━\u001b[0m\u001b[37m\u001b[0m \u001b[1m0s\u001b[0m 5ms/step - loss: 4.4375 - mape: 23.0158 - val_loss: 10.1192 - val_mape: 53.1114\n",
      "Epoch 45/50\n",
      "\u001b[1m10/10\u001b[0m \u001b[32m━━━━━━━━━━━━━━━━━━━━\u001b[0m\u001b[37m\u001b[0m \u001b[1m0s\u001b[0m 16ms/step - loss: 4.4292 - mape: 22.9742 - val_loss: 7.5264 - val_mape: 39.1164\n",
      "Epoch 46/50\n",
      "\u001b[1m10/10\u001b[0m \u001b[32m━━━━━━━━━━━━━━━━━━━━\u001b[0m\u001b[37m\u001b[0m \u001b[1m0s\u001b[0m 5ms/step - loss: 4.1723 - mape: 22.4132 - val_loss: 6.5683 - val_mape: 35.0919\n",
      "Epoch 47/50\n",
      "\u001b[1m10/10\u001b[0m \u001b[32m━━━━━━━━━━━━━━━━━━━━\u001b[0m\u001b[37m\u001b[0m \u001b[1m0s\u001b[0m 5ms/step - loss: 4.3307 - mape: 22.5194 - val_loss: 9.0154 - val_mape: 45.7833\n",
      "Epoch 48/50\n",
      "\u001b[1m10/10\u001b[0m \u001b[32m━━━━━━━━━━━━━━━━━━━━\u001b[0m\u001b[37m\u001b[0m \u001b[1m0s\u001b[0m 5ms/step - loss: 4.2872 - mape: 22.1463 - val_loss: 10.1382 - val_mape: 50.6632\n",
      "Epoch 49/50\n",
      "\u001b[1m10/10\u001b[0m \u001b[32m━━━━━━━━━━━━━━━━━━━━\u001b[0m\u001b[37m\u001b[0m \u001b[1m0s\u001b[0m 7ms/step - loss: 4.0354 - mape: 20.9203 - val_loss: 9.3684 - val_mape: 48.0362\n",
      "Epoch 50/50\n",
      "\u001b[1m10/10\u001b[0m \u001b[32m━━━━━━━━━━━━━━━━━━━━\u001b[0m\u001b[37m\u001b[0m \u001b[1m0s\u001b[0m 6ms/step - loss: 4.0556 - mape: 21.2267 - val_loss: 7.3081 - val_mape: 37.0005\n"
     ]
    }
   ],
   "source": [
    "history = model.fit(train_ds,\n",
    "                    epochs=50,\n",
    "                    validation_data=val_ds)"
   ]
  },
  {
   "cell_type": "code",
   "execution_count": 19,
   "id": "414494e5-8fee-4740-866b-33341cffea63",
   "metadata": {},
   "outputs": [
    {
     "data": {
      "text/html": [
       "<div>\n",
       "<style scoped>\n",
       "    .dataframe tbody tr th:only-of-type {\n",
       "        vertical-align: middle;\n",
       "    }\n",
       "\n",
       "    .dataframe tbody tr th {\n",
       "        vertical-align: top;\n",
       "    }\n",
       "\n",
       "    .dataframe thead th {\n",
       "        text-align: right;\n",
       "    }\n",
       "</style>\n",
       "<table border=\"1\" class=\"dataframe\">\n",
       "  <thead>\n",
       "    <tr style=\"text-align: right;\">\n",
       "      <th></th>\n",
       "      <th>loss</th>\n",
       "      <th>mape</th>\n",
       "      <th>val_loss</th>\n",
       "      <th>val_mape</th>\n",
       "    </tr>\n",
       "  </thead>\n",
       "  <tbody>\n",
       "    <tr>\n",
       "      <th>0</th>\n",
       "      <td>21.192900</td>\n",
       "      <td>90.949249</td>\n",
       "      <td>22.418987</td>\n",
       "      <td>100.0</td>\n",
       "    </tr>\n",
       "    <tr>\n",
       "      <th>1</th>\n",
       "      <td>18.385761</td>\n",
       "      <td>81.429924</td>\n",
       "      <td>22.418987</td>\n",
       "      <td>100.0</td>\n",
       "    </tr>\n",
       "    <tr>\n",
       "      <th>2</th>\n",
       "      <td>16.999325</td>\n",
       "      <td>76.615746</td>\n",
       "      <td>22.418987</td>\n",
       "      <td>100.0</td>\n",
       "    </tr>\n",
       "    <tr>\n",
       "      <th>3</th>\n",
       "      <td>15.722792</td>\n",
       "      <td>72.097580</td>\n",
       "      <td>22.418987</td>\n",
       "      <td>100.0</td>\n",
       "    </tr>\n",
       "    <tr>\n",
       "      <th>4</th>\n",
       "      <td>14.294497</td>\n",
       "      <td>67.030350</td>\n",
       "      <td>22.418987</td>\n",
       "      <td>100.0</td>\n",
       "    </tr>\n",
       "  </tbody>\n",
       "</table>\n",
       "</div>"
      ],
      "text/plain": [
       "        loss       mape   val_loss  val_mape\n",
       "0  21.192900  90.949249  22.418987     100.0\n",
       "1  18.385761  81.429924  22.418987     100.0\n",
       "2  16.999325  76.615746  22.418987     100.0\n",
       "3  15.722792  72.097580  22.418987     100.0\n",
       "4  14.294497  67.030350  22.418987     100.0"
      ]
     },
     "execution_count": 19,
     "metadata": {},
     "output_type": "execute_result"
    }
   ],
   "source": [
    "history_df = pd.DataFrame(history.history)\n",
    "history_df.head()"
   ]
  },
  {
   "cell_type": "code",
   "execution_count": 20,
   "id": "8266df73-63ed-4321-8262-77bc6e1c094f",
   "metadata": {
    "scrolled": true
   },
   "outputs": [
    {
     "data": {
      "image/png": "[encoded data removed]",
      "text/plain": [
       "<Figure size 640x480 with 1 Axes>"
      ]
     },
     "metadata": {},
     "output_type": "display_data"
    },
    {
     "data": {
      "image/png": "[encoded data removed]",
      "text/plain": [
       "<Figure size 640x480 with 1 Axes>"
      ]
     },
     "metadata": {},
     "output_type": "display_data"
    }
   ],
   "source": [
    "history_df.loc[:, ['loss', 'val_loss']].plot()\n",
    "history_df.loc[:, ['mape', 'val_mape']].plot()\n",
    "plt.show()"
   ]
  },
  {
   "cell_type": "code",
   "execution_count": 21,
   "id": "2a08a8a5-71fc-47cf-b2ca-ce6fa740954a",
   "metadata": {},
   "outputs": [
    {
     "name": "stdout",
     "output_type": "stream",
     "text": [
      "0:\tlearn: 3.9804208\ttotal: 157ms\tremaining: 15.6s\n",
      "1:\tlearn: 3.8912813\ttotal: 167ms\tremaining: 8.18s\n",
      "2:\tlearn: 3.8057915\ttotal: 180ms\tremaining: 5.82s\n",
      "3:\tlearn: 3.7106467\ttotal: 201ms\tremaining: 4.82s\n",
      "4:\tlearn: 3.6307230\ttotal: 213ms\tremaining: 4.05s\n",
      "5:\tlearn: 3.5448306\ttotal: 230ms\tremaining: 3.61s\n",
      "6:\tlearn: 3.4685396\ttotal: 246ms\tremaining: 3.27s\n",
      "7:\tlearn: 3.3818261\ttotal: 270ms\tremaining: 3.1s\n",
      "8:\tlearn: 3.3017704\ttotal: 284ms\tremaining: 2.87s\n",
      "9:\tlearn: 3.2192261\ttotal: 304ms\tremaining: 2.74s\n",
      "10:\tlearn: 3.1443175\ttotal: 319ms\tremaining: 2.58s\n",
      "11:\tlearn: 3.0657095\ttotal: 341ms\tremaining: 2.5s\n",
      "12:\tlearn: 2.9890668\ttotal: 362ms\tremaining: 2.42s\n",
      "13:\tlearn: 2.9143401\ttotal: 376ms\tremaining: 2.31s\n",
      "14:\tlearn: 2.8477202\ttotal: 386ms\tremaining: 2.19s\n",
      "15:\tlearn: 2.7765272\ttotal: 400ms\tremaining: 2.1s\n",
      "16:\tlearn: 2.7071140\ttotal: 413ms\tremaining: 2.02s\n",
      "17:\tlearn: 2.6394361\ttotal: 424ms\tremaining: 1.93s\n",
      "18:\tlearn: 2.5734502\ttotal: 433ms\tremaining: 1.85s\n",
      "19:\tlearn: 2.5091140\ttotal: 444ms\tremaining: 1.77s\n",
      "20:\tlearn: 2.4463861\ttotal: 452ms\tremaining: 1.7s\n",
      "21:\tlearn: 2.3852265\ttotal: 462ms\tremaining: 1.64s\n",
      "22:\tlearn: 2.3255958\ttotal: 471ms\tremaining: 1.58s\n",
      "23:\tlearn: 2.2674559\ttotal: 481ms\tremaining: 1.52s\n",
      "24:\tlearn: 2.2107695\ttotal: 491ms\tremaining: 1.47s\n",
      "25:\tlearn: 2.1555003\ttotal: 500ms\tremaining: 1.42s\n",
      "26:\tlearn: 2.1016128\ttotal: 513ms\tremaining: 1.39s\n",
      "27:\tlearn: 2.0490724\ttotal: 525ms\tremaining: 1.35s\n",
      "28:\tlearn: 1.9978456\ttotal: 536ms\tremaining: 1.31s\n",
      "29:\tlearn: 1.9478995\ttotal: 548ms\tremaining: 1.28s\n",
      "30:\tlearn: 1.8992020\ttotal: 561ms\tremaining: 1.25s\n",
      "31:\tlearn: 1.8517220\ttotal: 573ms\tremaining: 1.22s\n",
      "32:\tlearn: 1.8054289\ttotal: 585ms\tremaining: 1.19s\n",
      "33:\tlearn: 1.7602932\ttotal: 596ms\tremaining: 1.16s\n",
      "34:\tlearn: 1.7162858\ttotal: 608ms\tremaining: 1.13s\n",
      "35:\tlearn: 1.6733787\ttotal: 624ms\tremaining: 1.11s\n",
      "36:\tlearn: 1.6315442\ttotal: 637ms\tremaining: 1.08s\n",
      "37:\tlearn: 1.5907556\ttotal: 649ms\tremaining: 1.06s\n",
      "38:\tlearn: 1.5509867\ttotal: 661ms\tremaining: 1.03s\n",
      "39:\tlearn: 1.5122121\ttotal: 672ms\tremaining: 1.01s\n",
      "40:\tlearn: 1.4744068\ttotal: 685ms\tremaining: 985ms\n",
      "41:\tlearn: 1.4375466\ttotal: 698ms\tremaining: 963ms\n",
      "42:\tlearn: 1.4016079\ttotal: 710ms\tremaining: 941ms\n",
      "43:\tlearn: 1.3665677\ttotal: 723ms\tremaining: 920ms\n",
      "44:\tlearn: 1.3324035\ttotal: 737ms\tremaining: 900ms\n",
      "45:\tlearn: 1.2990934\ttotal: 751ms\tremaining: 881ms\n",
      "46:\tlearn: 1.2666161\ttotal: 763ms\tremaining: 860ms\n",
      "47:\tlearn: 1.2349507\ttotal: 779ms\tremaining: 844ms\n",
      "48:\tlearn: 1.2040769\ttotal: 792ms\tremaining: 824ms\n",
      "49:\tlearn: 1.1739750\ttotal: 803ms\tremaining: 803ms\n",
      "50:\tlearn: 1.1446256\ttotal: 815ms\tremaining: 783ms\n",
      "51:\tlearn: 1.1160100\ttotal: 827ms\tremaining: 763ms\n",
      "52:\tlearn: 1.0881097\ttotal: 841ms\tremaining: 745ms\n",
      "53:\tlearn: 1.0609070\ttotal: 854ms\tremaining: 728ms\n",
      "54:\tlearn: 1.0343843\ttotal: 867ms\tremaining: 709ms\n",
      "55:\tlearn: 1.0085247\ttotal: 881ms\tremaining: 692ms\n",
      "56:\tlearn: 0.9833116\ttotal: 895ms\tremaining: 675ms\n",
      "57:\tlearn: 0.9587288\ttotal: 953ms\tremaining: 690ms\n",
      "58:\tlearn: 0.9347606\ttotal: 980ms\tremaining: 681ms\n",
      "59:\tlearn: 0.9113916\ttotal: 1s\tremaining: 670ms\n",
      "60:\tlearn: 0.8886068\ttotal: 1.05s\tremaining: 672ms\n",
      "61:\tlearn: 0.8663916\ttotal: 1.07s\tremaining: 657ms\n",
      "62:\tlearn: 0.8447318\ttotal: 1.09s\tremaining: 642ms\n",
      "63:\tlearn: 0.8236135\ttotal: 1.12s\tremaining: 628ms\n",
      "64:\tlearn: 0.8030232\ttotal: 1.14s\tremaining: 616ms\n",
      "65:\tlearn: 0.7829476\ttotal: 1.16s\tremaining: 597ms\n",
      "66:\tlearn: 0.7633739\ttotal: 1.18s\tremaining: 580ms\n",
      "67:\tlearn: 0.7442896\ttotal: 1.2s\tremaining: 562ms\n",
      "68:\tlearn: 0.7256823\ttotal: 1.21s\tremaining: 543ms\n",
      "69:\tlearn: 0.7075403\ttotal: 1.22s\tremaining: 524ms\n",
      "70:\tlearn: 0.6898518\ttotal: 1.24s\tremaining: 506ms\n",
      "71:\tlearn: 0.6726055\ttotal: 1.25s\tremaining: 487ms\n",
      "72:\tlearn: 0.6557903\ttotal: 1.26s\tremaining: 468ms\n",
      "73:\tlearn: 0.6393956\ttotal: 1.28s\tremaining: 450ms\n",
      "74:\tlearn: 0.6234107\ttotal: 1.29s\tremaining: 431ms\n",
      "75:\tlearn: 0.6078254\ttotal: 1.31s\tremaining: 413ms\n",
      "76:\tlearn: 0.5926298\ttotal: 1.32s\tremaining: 395ms\n",
      "77:\tlearn: 0.5778140\ttotal: 1.34s\tremaining: 377ms\n",
      "78:\tlearn: 0.5633687\ttotal: 1.35s\tremaining: 358ms\n",
      "79:\tlearn: 0.5492845\ttotal: 1.36s\tremaining: 340ms\n",
      "80:\tlearn: 0.5355524\ttotal: 1.38s\tremaining: 323ms\n",
      "81:\tlearn: 0.5221635\ttotal: 1.39s\tremaining: 305ms\n",
      "82:\tlearn: 0.5091095\ttotal: 1.4s\tremaining: 287ms\n",
      "83:\tlearn: 0.4963817\ttotal: 1.41s\tremaining: 269ms\n",
      "84:\tlearn: 0.4839722\ttotal: 1.43s\tremaining: 252ms\n",
      "85:\tlearn: 0.4718729\ttotal: 1.44s\tremaining: 234ms\n",
      "86:\tlearn: 0.4600761\ttotal: 1.45s\tremaining: 217ms\n",
      "87:\tlearn: 0.4485742\ttotal: 1.46s\tremaining: 200ms\n",
      "88:\tlearn: 0.4373598\ttotal: 1.48s\tremaining: 183ms\n",
      "89:\tlearn: 0.4264258\ttotal: 1.49s\tremaining: 165ms\n",
      "90:\tlearn: 0.4157652\ttotal: 1.5s\tremaining: 149ms\n",
      "91:\tlearn: 0.4053710\ttotal: 1.52s\tremaining: 132ms\n",
      "92:\tlearn: 0.3952368\ttotal: 1.54s\tremaining: 116ms\n",
      "93:\tlearn: 0.3853558\ttotal: 1.56s\tremaining: 99.7ms\n",
      "94:\tlearn: 0.3757219\ttotal: 1.58s\tremaining: 83.1ms\n",
      "95:\tlearn: 0.3663289\ttotal: 1.59s\tremaining: 66.5ms\n",
      "96:\tlearn: 0.3571707\ttotal: 1.61s\tremaining: 49.8ms\n",
      "97:\tlearn: 0.3482414\ttotal: 1.62s\tremaining: 33.2ms\n",
      "98:\tlearn: 0.3395354\ttotal: 1.64s\tremaining: 16.6ms\n",
      "99:\tlearn: 0.3310470\ttotal: 1.65s\tremaining: 0us\n",
      "Model trained and saved successfully!\n"
     ]
    }
   ],
   "source": [
    "from catboost import CatBoostRegressor, Pool\n",
    "import pandas as pd\n",
    "\n",
    "# Example training dataset\n",
    "train_data = pd.DataFrame({\n",
    "    'cylinders': [4, 6, 8],\n",
    "    'displacement': [150, 200, 300],\n",
    "    'horsepower': [100, 150, 200],\n",
    "    'weight': [2500, 3000, 4000],\n",
    "    'acceleration': [15, 12, 10],\n",
    "    'model_year': [75, 80, 82],\n",
    "    'origin': [1, 2, 3]\n",
    "})\n",
    "train_labels = [10, 15, 20]  # Example target values\n",
    "\n",
    "# Specify the categorical column(s)\n",
    "cat_features = ['origin']\n",
    "\n",
    "# Train the model\n",
    "model = CatBoostRegressor(iterations=100, learning_rate=0.1, depth=6)\n",
    "\n",
    "# Fit the model, passing cat_features explicitly\n",
    "model.fit(train_data, train_labels, cat_features=cat_features)\n",
    "\n",
    "# Save the model\n",
    "model.save_model('fuel_consumption_model.cbm')  # Saves the model in the current directory\n",
    "\n",
    "print(\"Model trained and saved successfully!\")\n",
    "\n"
   ]
  },
  {
   "cell_type": "code",
   "execution_count": 22,
   "id": "547b654b-245e-4e0e-ac03-5d24d0a6940c",
   "metadata": {},
   "outputs": [
    {
     "name": "stdout",
     "output_type": "stream",
     "text": [
      "Defaulting to user installation because normal site-packages is not writeable\n",
      "Requirement already satisfied: ipywidgets in c:\\users\\lenovo\\appdata\\roaming\\python\\python312\\site-packages (8.1.5)\n",
      "Requirement already satisfied: comm>=0.1.3 in c:\\programdata\\anaconda3\\lib\\site-packages (from ipywidgets) (0.2.1)\n",
      "Requirement already satisfied: ipython>=6.1.0 in c:\\programdata\\anaconda3\\lib\\site-packages (from ipywidgets) (8.25.0)\n",
      "Requirement already satisfied: traitlets>=4.3.1 in c:\\programdata\\anaconda3\\lib\\site-packages (from ipywidgets) (5.14.3)\n",
      "Requirement already satisfied: widgetsnbextension~=4.0.12 in c:\\users\\lenovo\\appdata\\roaming\\python\\python312\\site-packages (from ipywidgets) (4.0.13)\n",
      "Requirement already satisfied: jupyterlab-widgets~=3.0.12 in c:\\users\\lenovo\\appdata\\roaming\\python\\python312\\site-packages (from ipywidgets) (3.0.13)\n",
      "Requirement already satisfied: decorator in c:\\programdata\\anaconda3\\lib\\site-packages (from ipython>=6.1.0->ipywidgets) (5.1.1)\n",
      "Requirement already satisfied: jedi>=0.16 in c:\\programdata\\anaconda3\\lib\\site-packages (from ipython>=6.1.0->ipywidgets) (0.18.1)\n",
      "Requirement already satisfied: matplotlib-inline in c:\\programdata\\anaconda3\\lib\\site-packages (from ipython>=6.1.0->ipywidgets) (0.1.6)\n",
      "Requirement already satisfied: prompt-toolkit<3.1.0,>=3.0.41 in c:\\programdata\\anaconda3\\lib\\site-packages (from ipython>=6.1.0->ipywidgets) (3.0.43)\n",
      "Requirement already satisfied: pygments>=2.4.0 in c:\\programdata\\anaconda3\\lib\\site-packages (from ipython>=6.1.0->ipywidgets) (2.15.1)\n",
      "Requirement already satisfied: stack-data in c:\\programdata\\anaconda3\\lib\\site-packages (from ipython>=6.1.0->ipywidgets) (0.2.0)\n",
      "Requirement already satisfied: colorama in c:\\programdata\\anaconda3\\lib\\site-packages (from ipython>=6.1.0->ipywidgets) (0.4.6)\n",
      "Requirement already satisfied: parso<0.9.0,>=0.8.0 in c:\\programdata\\anaconda3\\lib\\site-packages (from jedi>=0.16->ipython>=6.1.0->ipywidgets) (0.8.3)\n",
      "Requirement already satisfied: wcwidth in c:\\programdata\\anaconda3\\lib\\site-packages (from prompt-toolkit<3.1.0,>=3.0.41->ipython>=6.1.0->ipywidgets) (0.2.5)\n",
      "Requirement already satisfied: executing in c:\\programdata\\anaconda3\\lib\\site-packages (from stack-data->ipython>=6.1.0->ipywidgets) (0.8.3)\n",
      "Requirement already satisfied: asttokens in c:\\programdata\\anaconda3\\lib\\site-packages (from stack-data->ipython>=6.1.0->ipywidgets) (2.0.5)\n",
      "Requirement already satisfied: pure-eval in c:\\programdata\\anaconda3\\lib\\site-packages (from stack-data->ipython>=6.1.0->ipywidgets) (0.2.2)\n",
      "Requirement already satisfied: six in c:\\programdata\\anaconda3\\lib\\site-packages (from asttokens->stack-data->ipython>=6.1.0->ipywidgets) (1.16.0)\n"
     ]
    }
   ],
   "source": [
    "!pip install ipywidgets\n"
   ]
  },
  {
   "cell_type": "code",
   "execution_count": 23,
   "id": "d07eae35-7df8-4a31-b557-4c40e0d75eed",
   "metadata": {},
   "outputs": [
    {
     "data": {
      "application/vnd.jupyter.widget-view+json": {
       "model_id": "dd86111e45c94b0cbe0bdb9a3e61dd57",
       "version_major": 2,
       "version_minor": 0
      },
      "text/plain": [
       "interactive(children=(IntSlider(value=3, description='Cylinders:', max=8, min=3), FloatSlider(value=50.0, desc…"
      ]
     },
     "metadata": {},
     "output_type": "display_data"
    }
   ],
   "source": [
    "import ipywidgets as widgets\n",
    "from IPython.display import display\n",
    "import pandas as pd\n",
    "\n",
    "# Assuming model is your pre-trained model\n",
    "from catboost import CatBoostRegressor\n",
    "\n",
    "# Load the trained model\n",
    "model = CatBoostRegressor()\n",
    "model.load_model('fuel_consumption_model.cbm')  # Replace with the actual path to your saved model\n",
    "\n",
    "# Define widgets for user input\n",
    "cylinders_widget = widgets.IntSlider(min=3, max=8, step=1, description='Cylinders:')\n",
    "displacement_widget = widgets.FloatSlider(min=50, max=500, step=10, description='Displacement:')\n",
    "horsepower_widget = widgets.FloatSlider(min=50, max=250, step=10, description='Horsepower:')\n",
    "weight_widget = widgets.FloatSlider(min=1500, max=5500, step=100, description='Weight:')\n",
    "acceleration_widget = widgets.FloatSlider(min=8, max=24, step=1, description='Acceleration:')\n",
    "model_year_widget = widgets.IntSlider(min=70, max=82, step=1, description='Model Year:')\n",
    "origin_widget = widgets.Dropdown(options=[1, 2, 3], description='Origin:')\n",
    "\n",
    "# Define function to preprocess input and make predictions\n",
    "def predict_fuel_consumption(cylinders, displacement, horsepower, weight, acceleration, model_year, origin):\n",
    "    # Prepare input data\n",
    "    input_data = pd.DataFrame({\n",
    "        'cylinders': [cylinders],\n",
    "        'displacement': [displacement],\n",
    "        'horsepower': [horsepower],\n",
    "        'weight': [weight],\n",
    "        'acceleration': [acceleration],\n",
    "        'model_year': [model_year],\n",
    "        'origin': [origin]  # Process origin as needed\n",
    "    })\n",
    "    \n",
    "    # Process 'origin' if necessary (e.g., one-hot encoding)\n",
    "    # Assuming the model expects origin to be one-hot encoded\n",
    "    origin_encoded = pd.get_dummies(input_data['origin'], prefix='origin')\n",
    "    input_data = pd.concat([input_data.drop('origin', axis=1), origin_encoded], axis=1)\n",
    "\n",
    "    # Ensure input shape matches the model's requirements\n",
    "    required_columns = ['cylinders', 'displacement', 'horsepower', 'weight', 'acceleration', 'model_year']\n",
    "    for col in origin_encoded.columns:\n",
    "        required_columns.append(col)\n",
    "    \n",
    "    # Add missing columns with default value 0\n",
    "    for col in required_columns:\n",
    "        if col not in input_data:\n",
    "            input_data[col] = 0\n",
    "\n",
    "    input_data = input_data[required_columns]  # Ensure column order matches training data\n",
    "\n",
    "    # Make a prediction\n",
    "    try:\n",
    "        prediction = model.predict(input_data)[0]\n",
    "        print(f'Predicted Fuel Consumption: {prediction:.2f} liters/100km')\n",
    "    except Exception as e:\n",
    "        print(f\"Error making prediction: {e}\")\n",
    "\n",
    "# Display widgets\n",
    "interactive_plot = widgets.interactive(\n",
    "    predict_fuel_consumption,\n",
    "    cylinders=cylinders_widget,\n",
    "    displacement=displacement_widget,\n",
    "    horsepower=horsepower_widget,\n",
    "    weight=weight_widget,\n",
    "    acceleration=acceleration_widget,\n",
    "    model_year=model_year_widget,\n",
    "    origin=origin_widget\n",
    ")\n",
    "\n",
    "display(interactive_plot)\n"
   ]
  },
  {
   "cell_type": "code",
   "execution_count": 24,
   "id": "11970237-dd05-4feb-b28a-15da47f2cda5",
   "metadata": {},
   "outputs": [
    {
     "data": {
      "application/vnd.jupyter.widget-view+json": {
       "model_id": "a88e30f085fa45198873450f43f02414",
       "version_major": 2,
       "version_minor": 0
      },
      "text/plain": [
       "interactive(children=(IntSlider(value=3, description='Cylinders:', max=8, min=3), FloatSlider(value=50.0, desc…"
      ]
     },
     "metadata": {},
     "output_type": "display_data"
    }
   ],
   "source": [
    "import ipywidgets as widgets\n",
    "from IPython.display import display\n",
    "import pandas as pd\n",
    "import pickle\n",
    "from catboost import CatBoostRegressor\n",
    "\n",
    "# Load the trained model\n",
    "model = CatBoostRegressor()\n",
    "model.load_model('fuel_consumption_model.cbm')  # Replace with the actual path to your saved model\n",
    "\n",
    "# Define widgets for user input\n",
    "cylinders_widget = widgets.IntSlider(min=3, max=8, step=1, description='Cylinders:')\n",
    "displacement_widget = widgets.FloatSlider(min=50, max=500, step=10, description='Displacement:')\n",
    "horsepower_widget = widgets.FloatSlider(min=50, max=250, step=10, description='Horsepower:')\n",
    "weight_widget = widgets.FloatSlider(min=1500, max=5500, step=100, description='Weight:')\n",
    "acceleration_widget = widgets.FloatSlider(min=8, max=24, step=1, description='Acceleration:')\n",
    "model_year_widget = widgets.IntSlider(min=70, max=82, step=1, description='Model Year:')\n",
    "origin_widget = widgets.Dropdown(options=[1, 2, 3], description='Origin:')\n",
    "\n",
    "# Define function to preprocess input and make predictions\n",
    "def predict_fuel_consumption(cylinders, displacement, horsepower, weight, acceleration, model_year, origin):\n",
    "    # Prepare input data\n",
    "    input_data = pd.DataFrame({\n",
    "        'cylinders': [cylinders],\n",
    "        'displacement': [displacement],\n",
    "        'horsepower': [horsepower],\n",
    "        'weight': [weight],\n",
    "        'acceleration': [acceleration],\n",
    "        'model_year': [model_year],\n",
    "        'origin': [origin]\n",
    "    })\n",
    "\n",
    "    # Process 'origin' if necessary (e.g., one-hot encoding)\n",
    "    origin_encoded = pd.get_dummies(input_data['origin'], prefix='origin')\n",
    "    input_data = pd.concat([input_data.drop('origin', axis=1), origin_encoded], axis=1)\n",
    "\n",
    "    # Ensure input shape matches the model's requirements\n",
    "    required_columns = ['cylinders', 'displacement', 'horsepower', 'weight', 'acceleration', 'model_year']\n",
    "    for col in origin_encoded.columns:\n",
    "        required_columns.append(col)\n",
    "\n",
    "    # Add missing columns with default value 0\n",
    "    for col in required_columns:\n",
    "        if col not in input_data:\n",
    "            input_data[col] = 0\n",
    "\n",
    "    input_data = input_data[required_columns]  # Ensure column order matches training data\n",
    "\n",
    "    # Make a prediction\n",
    "    try:\n",
    "        prediction = model.predict(input_data)[0]\n",
    "        print(f'Predicted Fuel Consumption: {prediction:.2f} liters/100km')\n",
    "    except Exception as e:\n",
    "        print(f\"Error making prediction: {e}\")\n",
    "\n",
    "# Save widget state to a file\n",
    "def save_widget_state():\n",
    "    widget_state = {\n",
    "        'cylinders': cylinders_widget.value,\n",
    "        'displacement': displacement_widget.value,\n",
    "        'horsepower': horsepower_widget.value,\n",
    "        'weight': weight_widget.value,\n",
    "        'acceleration': acceleration_widget.value,\n",
    "        'model_year': model_year_widget.value,\n",
    "        'origin': origin_widget.value\n",
    "    }\n",
    "    with open('widget_state.pkl', 'wb') as f:\n",
    "        pickle.dump(widget_state, f)\n",
    "\n",
    "# Load widget state from a file\n",
    "def load_widget_state():\n",
    "    try:\n",
    "        with open('widget_state.pkl', 'rb') as f:\n",
    "            widget_state = pickle.load(f)\n",
    "            # Update widget values from saved state\n",
    "            cylinders_widget.value = widget_state['cylinders']\n",
    "            displacement_widget.value = widget_state['displacement']\n",
    "            horsepower_widget.value = widget_state['horsepower']\n",
    "            weight_widget.value = widget_state['weight']\n",
    "            acceleration_widget.value = widget_state['acceleration']\n",
    "            model_year_widget.value = widget_state['model_year']\n",
    "            origin_widget.value = widget_state['origin']\n",
    "    except FileNotFoundError:\n",
    "        print(\"No saved widget state found. Displaying default values.\")\n",
    "\n",
    "# Load state when the notebook is opened\n",
    "load_widget_state()\n",
    "\n",
    "# Display widgets\n",
    "interactive_plot = widgets.interactive(\n",
    "    predict_fuel_consumption,\n",
    "    cylinders=cylinders_widget,\n",
    "    displacement=displacement_widget,\n",
    "    horsepower=horsepower_widget,\n",
    "    weight=weight_widget,\n",
    "    acceleration=acceleration_widget,\n",
    "    model_year=model_year_widget,\n",
    "    origin=origin_widget\n",
    ")\n",
    "\n",
    "display(interactive_plot)\n",
    "\n",
    "# Save the widget state on changes (call this whenever needed)\n",
    "save_widget_state()\n"
   ]
  },
  {
   "cell_type": "code",
   "execution_count": null,
   "id": "a8a13983-69ac-4d17-af70-bb41668324b6",
   "metadata": {},
   "outputs": [],
   "source": []
  }
 ],
 "metadata": {
  "kernelspec": {
   "display_name": "Python 3 (ipykernel)",
   "language": "python",
   "name": "python3"
  },
  "language_info": {
   "codemirror_mode": {
    "name": "ipython",
    "version": 3
   },
   "file_extension": ".py",
   "mimetype": "text/x-python",
   "name": "python",
   "nbconvert_exporter": "python",
   "pygments_lexer": "ipython3",
   "version": "3.12.4"
  }
 },
 "nbformat": 4,
 "nbformat_minor": 5
}
